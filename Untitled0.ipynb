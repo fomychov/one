{
  "nbformat": 4,
  "nbformat_minor": 0,
  "metadata": {
    "colab": {
      "name": "Untitled0.ipynb",
      "provenance": [],
      "mount_file_id": "1spgS3_PLL0yn6ZRxBCcfGrCPvxm1TxOW",
      "authorship_tag": "ABX9TyMrfjJ/4r6Ssu+f82CWncWU",
      "include_colab_link": true
    },
    "kernelspec": {
      "name": "python3",
      "display_name": "Python 3"
    },
    "language_info": {
      "name": "python"
    }
  },
  "cells": [
    {
      "cell_type": "markdown",
      "metadata": {
        "id": "view-in-github",
        "colab_type": "text"
      },
      "source": [
        "<a href=\"https://colab.research.google.com/github/fomychov/one/blob/main/Untitled0.ipynb\" target=\"_parent\"><img src=\"https://colab.research.google.com/assets/colab-badge.svg\" alt=\"Open In Colab\"/></a>"
      ]
    },
    {
      "cell_type": "code",
      "execution_count": null,
      "metadata": {
        "id": "_t1ZZTPQPoso"
      },
      "outputs": [],
      "source": [
        "i = []\n",
        "while(True):\n",
        "    i.append('a')"
      ]
    },
    {
      "cell_type": "code",
      "source": [
        "from google.colab import drive\n",
        "drive.mount('/content/drive')"
      ],
      "metadata": {
        "id": "7453NKREaZPO"
      },
      "execution_count": null,
      "outputs": []
    },
    {
      "cell_type": "code",
      "source": [
        "from google.colab import drive\n",
        "drive.mount('/content/drive')"
      ],
      "metadata": {
        "id": "x8RZetYebAmi"
      },
      "execution_count": null,
      "outputs": []
    },
    {
      "cell_type": "code",
      "source": [
        "lst = ['blog', 'Treehouse', 'Python', 'hi']\n",
        "# ==================\n",
        "words = []\n",
        "for word in lst:\n",
        "    if len(word) > 5:\n",
        "        words.append(word)\n",
        "print(words)\n",
        "# =====================\n",
        "print([word for word in lst if len(word) > 5])"
      ],
      "metadata": {
        "id": "LyyiGSf9bAmw"
      },
      "execution_count": null,
      "outputs": []
    },
    {
      "cell_type": "code",
      "source": [
        "if 96 > 100:\n",
        "    print('pass')\n",
        "else:\n",
        "    print('fail')\n",
        "# ===================\n",
        "print('pass') if 96 > 100 else print('fail') "
      ],
      "metadata": {
        "id": "od4b0dXsbAmx"
      },
      "execution_count": null,
      "outputs": []
    },
    {
      "cell_type": "code",
      "source": [
        "x = 96\n",
        "# ==============\n",
        "if x > 100:\n",
        "    print('no')\n",
        "elif x == 100:\n",
        "    print('yes')\n",
        "else:\n",
        "    print('maybe')\n",
        "# ===================\n",
        "print('no') if x > 100 else print('yes') if x == 100 else print('maybe') "
      ],
      "metadata": {
        "id": "klLbKe7obAmx"
      },
      "execution_count": null,
      "outputs": []
    },
    {
      "cell_type": "code",
      "source": [
        "numbers = []\n",
        "for i in range(10):\n",
        "    numbers.append(i)\n",
        "print(numbers)\n",
        "#==========================\n",
        "print([i for i in range(10)])"
      ],
      "metadata": {
        "id": "VCRPHc6KbAmy"
      },
      "execution_count": null,
      "outputs": []
    },
    {
      "cell_type": "code",
      "source": [
        "squares = []\n",
        "for i in range(10):\n",
        "    if i % 2 == 0:\n",
        "        squares.append(i**2)\n",
        "print(squares)\n",
        "# ==================\n",
        "print([i**2 for i in range(10) if i % 2 == 0]) "
      ],
      "metadata": {
        "id": "2o9Pp7NWbAmy"
      },
      "execution_count": null,
      "outputs": []
    },
    {
      "cell_type": "code",
      "source": [
        "combs = []\n",
        "for x in [1,2,3]:\n",
        "    for y in [3,2,1]:\n",
        "        if x != y:\n",
        "            combs.append({x,y})\n",
        "print(combs)\n",
        "# print([type(i) for i in combs])\n",
        "# ==================\n",
        "print([{x,y} for x in [1,2,3] for y in [3,2,1] if x != y])"
      ],
      "metadata": {
        "id": "sspZvATrbAmz"
      },
      "execution_count": null,
      "outputs": []
    },
    {
      "cell_type": "code",
      "source": [
        "squares = []\n",
        "for i in range(1,6):\n",
        "    if i % 2 == 0:\n",
        "        squares.append(i ** 2)\n",
        "print(squares)\n",
        "# ===================\n",
        "print([i**2 for i in range(1,6) if i % 2 == 0])"
      ],
      "metadata": {
        "id": "bfbzEVlFbAmz"
      },
      "execution_count": null,
      "outputs": []
    },
    {
      "cell_type": "code",
      "source": [
        "square_cube = []\n",
        "for i in range(1,6):\n",
        "    if i % 2 == 0:\n",
        "        square_cube.append(i**2)\n",
        "    else:\n",
        "        square_cube.append(i**3)\n",
        "print(square_cube)\n",
        "# ===================\n",
        "print([i**2 if i % 2 == 0 else i**3 for i in range(1,6)])"
      ],
      "metadata": {
        "id": "pbzsdovcbAmz"
      },
      "execution_count": null,
      "outputs": []
    },
    {
      "cell_type": "code",
      "source": [
        "num = [1,2,3]\n",
        "alpha = ['A','B','C']\n",
        "n_dict = {}\n",
        "for i, j in zip(num, alpha):\n",
        "    n_dict[i] = j\n",
        "print(n_dict)\n",
        "# ==========================\n",
        "print({i: j for i,j in zip([1,2,3],['A','B','C'])})"
      ],
      "metadata": {
        "id": "9CQHElhvbAm0"
      },
      "execution_count": null,
      "outputs": []
    },
    {
      "cell_type": "code",
      "source": [
        "even_squares = {}\n",
        "for num in range(10):\n",
        "    if num % 2 ==0:\n",
        "        even_squares[num] = num ** 2\n",
        "print(even_squares)\n",
        "# ===================\n",
        "print({num: num**2 for num in range(10) if num % 2 == 0})"
      ],
      "metadata": {
        "id": "eXEmjgIZbAm0"
      },
      "execution_count": null,
      "outputs": []
    },
    {
      "cell_type": "code",
      "source": [
        "a = 10\n",
        "b = 'nine'\n",
        "c = a\n",
        "a = b\n",
        "b = cи\n",
        "print(a, b)\n",
        "# ============================\n",
        "a = 10\n",
        "b = 'nine'\n",
        "a,b = b,a  # без необходимости вводить третью переенную\n",
        "print(a,b)"
      ],
      "metadata": {
        "id": "sQRHB__SbAm0"
      },
      "execution_count": null,
      "outputs": []
    },
    {
      "cell_type": "code",
      "source": [
        "def update():\n",
        "    global num\n",
        "    num = 40\n",
        "update()\n",
        "print(num)\n",
        "# ==============================\n",
        "def update2():\n",
        "    globals() ['num2'] = 40\n",
        "update2()\n",
        "print(num2)"
      ],
      "metadata": {
        "id": "MbyDbD47bAm1"
      },
      "execution_count": null,
      "outputs": []
    },
    {
      "cell_type": "code",
      "source": [
        "lst = ['blog', 'Treehouse', 'Python', 'hi']\n",
        "# ==================\n",
        "words = []\n",
        "for word in lst:\n",
        "    if len(word) > 5:\n",
        "        words.append(word)\n",
        "print(words)\n",
        "# =====================\n",
        "print([word for word in lst if len(word) > 5])"
      ],
      "metadata": {
        "id": "pjvVGzbbaZPP"
      },
      "execution_count": null,
      "outputs": []
    },
    {
      "cell_type": "code",
      "source": [
        "if 96 > 100:\n",
        "    print('pass')\n",
        "else:\n",
        "    print('fail')\n",
        "# ===================\n",
        "print('pass') if 96 > 100 else print('fail') "
      ],
      "metadata": {
        "id": "vVW_43vJaZPQ"
      },
      "execution_count": null,
      "outputs": []
    },
    {
      "cell_type": "code",
      "source": [
        "x = 96\n",
        "# ==============\n",
        "if x > 100:\n",
        "    print('no')\n",
        "elif x == 100:\n",
        "    print('yes')\n",
        "else:\n",
        "    print('maybe')\n",
        "# ===================\n",
        "print('no') if x > 100 else print('yes') if x == 100 else print('maybe') "
      ],
      "metadata": {
        "id": "jmPG_lbmaZPR"
      },
      "execution_count": null,
      "outputs": []
    },
    {
      "cell_type": "code",
      "source": [
        "numbers = []\n",
        "for i in range(10):\n",
        "    numbers.append(i)\n",
        "print(numbers)\n",
        "#==========================\n",
        "print([i for i in range(10)])"
      ],
      "metadata": {
        "id": "BR1ZNxkSaZPR"
      },
      "execution_count": null,
      "outputs": []
    },
    {
      "cell_type": "code",
      "source": [
        "squares = []\n",
        "for i in range(10):\n",
        "    if i % 2 == 0:\n",
        "        squares.append(i**2)\n",
        "print(squares)\n",
        "# ==================\n",
        "print([i**2 for i in range(10) if i % 2 == 0]) "
      ],
      "metadata": {
        "id": "z8nMmVHnaZPS"
      },
      "execution_count": null,
      "outputs": []
    },
    {
      "cell_type": "code",
      "source": [
        "combs = []\n",
        "for x in [1,2,3]:\n",
        "    for y in [3,2,1]:\n",
        "        if x != y:\n",
        "            combs.append({x,y})\n",
        "print(combs)\n",
        "# print([type(i) for i in combs])\n",
        "# ==================\n",
        "print([{x,y} for x in [1,2,3] for y in [3,2,1] if x != y])"
      ],
      "metadata": {
        "id": "YOW6F_7UaZPS"
      },
      "execution_count": null,
      "outputs": []
    },
    {
      "cell_type": "code",
      "source": [
        "squares = []\n",
        "for i in range(1,6):\n",
        "    if i % 2 == 0:\n",
        "        squares.append(i ** 2)\n",
        "print(squares)\n",
        "# ===================\n",
        "print([i**2 for i in range(1,6) if i % 2 == 0])"
      ],
      "metadata": {
        "id": "x2esumUJaZPT"
      },
      "execution_count": null,
      "outputs": []
    },
    {
      "cell_type": "code",
      "source": [
        "square_cube = []\n",
        "for i in range(1,6):\n",
        "    if i % 2 == 0:\n",
        "        square_cube.append(i**2)\n",
        "    else:\n",
        "        square_cube.append(i**3)\n",
        "print(square_cube)\n",
        "# ===================\n",
        "print([i**2 if i % 2 == 0 else i**3 for i in range(1,6)])"
      ],
      "metadata": {
        "id": "JrQirMZAaZPT"
      },
      "execution_count": null,
      "outputs": []
    },
    {
      "cell_type": "code",
      "source": [
        "num = [1,2,3]\n",
        "alpha = ['A','B','C']\n",
        "n_dict = {}\n",
        "for i, j in zip(num, alpha):\n",
        "    n_dict[i] = j\n",
        "print(n_dict)\n",
        "# ==========================\n",
        "print({i: j for i,j in zip([1,2,3],['A','B','C'])})"
      ],
      "metadata": {
        "id": "-Y1UQi1MaZPU"
      },
      "execution_count": null,
      "outputs": []
    },
    {
      "cell_type": "code",
      "source": [
        "even_squares = {}\n",
        "for num in range(10):\n",
        "    if num % 2 ==0:\n",
        "        even_squares[num] = num ** 2\n",
        "print(even_squares)\n",
        "# ===================\n",
        "print({num: num**2 for num in range(10) if num % 2 == 0})"
      ],
      "metadata": {
        "id": "u6opfEtCaZPU"
      },
      "execution_count": null,
      "outputs": []
    },
    {
      "cell_type": "code",
      "source": [
        "a = 10\n",
        "b = 'nine'\n",
        "c = a\n",
        "a = b\n",
        "b = cи\n",
        "print(a, b)\n",
        "# ============================\n",
        "a = 10\n",
        "b = 'nine'\n",
        "a,b = b,a  # без необходимости вводить третью переенную\n",
        "print(a,b)"
      ],
      "metadata": {
        "id": "DVBjlMWWaZPV"
      },
      "execution_count": null,
      "outputs": []
    },
    {
      "cell_type": "code",
      "source": [
        "def update():\n",
        "    global num\n",
        "    num = 40\n",
        "update()\n",
        "print(num)\n",
        "# ==============================\n",
        "def update2():\n",
        "    globals() ['num2'] = 40\n",
        "update2()\n",
        "print(num2)"
      ],
      "metadata": {
        "id": "3XHFYvgOaZPV"
      },
      "execution_count": null,
      "outputs": []
    }
  ]
}